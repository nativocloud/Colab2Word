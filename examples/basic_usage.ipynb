{
 "cells": [
  {
   "cell_type": "markdown",
   "metadata": {},
   "source": [
    "# Colab2Word Basic Usage Examples\n",
    "\n",
    "This notebook demonstrates how to use the Colab2Word package to generate professional Word documents from your Colab notebooks."
   ]
  },
  {
   "cell_type": "markdown",
   "metadata": {},
   "source": [
    "## Setup\n",
    "\n",
    "First, install the package:"
   ]
  },
  {
   "cell_type": "code",
   "execution_count": 1,
   "metadata": {},
   "outputs": [
    {
     "name": "stdout",
     "output_type": "stream",
     "text": [
      "Collecting git+https://github.com/nativocloud/Colab2Word.git\n",
      "  Cloning https://github.com/nativocloud/Colab2Word.git to c:\\users\\cardo\\appdata\\local\\temp\\pip-req-build-aojobt9w\n",
      "  Resolved https://github.com/nativocloud/Colab2Word.git to commit bca1a34485667f84fea10ae176ad726b3f79c239\n",
      "  Preparing metadata (setup.py): started\n",
      "  Preparing metadata (setup.py): finished with status 'done'\n",
      "Collecting python-docx>=0.8.11 (from colab2word==0.1.0)\n",
      "  Downloading python_docx-1.1.2-py3-none-any.whl.metadata (2.0 kB)\n",
      "Requirement already satisfied: pandas>=1.3.0 in c:\\users\\cardo\\anaconda3\\lib\\site-packages (from colab2word==0.1.0) (2.2.2)\n",
      "Requirement already satisfied: numpy>=1.21.0 in c:\\users\\cardo\\anaconda3\\lib\\site-packages (from colab2word==0.1.0) (1.26.4)\n",
      "Requirement already satisfied: matplotlib>=3.4.0 in c:\\users\\cardo\\anaconda3\\lib\\site-packages (from colab2word==0.1.0) (3.9.2)\n",
      "Requirement already satisfied: seaborn>=0.11.0 in c:\\users\\cardo\\anaconda3\\lib\\site-packages (from colab2word==0.1.0) (0.13.2)\n",
      "Requirement already satisfied: contourpy>=1.0.1 in c:\\users\\cardo\\anaconda3\\lib\\site-packages (from matplotlib>=3.4.0->colab2word==0.1.0) (1.2.0)\n",
      "Requirement already satisfied: cycler>=0.10 in c:\\users\\cardo\\anaconda3\\lib\\site-packages (from matplotlib>=3.4.0->colab2word==0.1.0) (0.11.0)\n",
      "Requirement already satisfied: fonttools>=4.22.0 in c:\\users\\cardo\\anaconda3\\lib\\site-packages (from matplotlib>=3.4.0->colab2word==0.1.0) (4.51.0)\n",
      "Requirement already satisfied: kiwisolver>=1.3.1 in c:\\users\\cardo\\anaconda3\\lib\\site-packages (from matplotlib>=3.4.0->colab2word==0.1.0) (1.4.4)\n",
      "Requirement already satisfied: packaging>=20.0 in c:\\users\\cardo\\anaconda3\\lib\\site-packages (from matplotlib>=3.4.0->colab2word==0.1.0) (24.1)\n",
      "Requirement already satisfied: pillow>=8 in c:\\users\\cardo\\anaconda3\\lib\\site-packages (from matplotlib>=3.4.0->colab2word==0.1.0) (10.4.0)\n",
      "Requirement already satisfied: pyparsing>=2.3.1 in c:\\users\\cardo\\anaconda3\\lib\\site-packages (from matplotlib>=3.4.0->colab2word==0.1.0) (3.1.2)\n",
      "Requirement already satisfied: python-dateutil>=2.7 in c:\\users\\cardo\\anaconda3\\lib\\site-packages (from matplotlib>=3.4.0->colab2word==0.1.0) (2.9.0.post0)\n",
      "Requirement already satisfied: pytz>=2020.1 in c:\\users\\cardo\\anaconda3\\lib\\site-packages (from pandas>=1.3.0->colab2word==0.1.0) (2024.1)\n",
      "Requirement already satisfied: tzdata>=2022.7 in c:\\users\\cardo\\anaconda3\\lib\\site-packages (from pandas>=1.3.0->colab2word==0.1.0) (2023.3)\n",
      "Requirement already satisfied: lxml>=3.1.0 in c:\\users\\cardo\\anaconda3\\lib\\site-packages (from python-docx>=0.8.11->colab2word==0.1.0) (5.2.1)\n",
      "Requirement already satisfied: typing-extensions>=4.9.0 in c:\\users\\cardo\\anaconda3\\lib\\site-packages (from python-docx>=0.8.11->colab2word==0.1.0) (4.11.0)\n",
      "Requirement already satisfied: six>=1.5 in c:\\users\\cardo\\anaconda3\\lib\\site-packages (from python-dateutil>=2.7->matplotlib>=3.4.0->colab2word==0.1.0) (1.16.0)\n",
      "Downloading python_docx-1.1.2-py3-none-any.whl (244 kB)\n",
      "Building wheels for collected packages: colab2word\n",
      "  Building wheel for colab2word (setup.py): started\n",
      "  Building wheel for colab2word (setup.py): finished with status 'done'\n",
      "  Created wheel for colab2word: filename=colab2word-0.1.0-py3-none-any.whl size=5687 sha256=2c509501726d9e9b9f8de4eef8a7795b905b110e8570654822fd3ad6550dc003\n",
      "  Stored in directory: C:\\Users\\cardo\\AppData\\Local\\Temp\\pip-ephem-wheel-cache-6h7fwx82\\wheels\\f1\\e6\\68\\196343f84f1e02e66b7aa8311c81895ed9a46465f53771400a\n",
      "Successfully built colab2word\n",
      "Installing collected packages: python-docx, colab2word\n",
      "Successfully installed colab2word-0.1.0 python-docx-1.1.2\n"
     ]
    },
    {
     "name": "stderr",
     "output_type": "stream",
     "text": [
      "  Running command git clone --filter=blob:none --quiet https://github.com/nativocloud/Colab2Word.git 'C:\\Users\\cardo\\AppData\\Local\\Temp\\pip-req-build-aojobt9w'\n"
     ]
    }
   ],
   "source": [
    "!pip install git+https://github.com/nativocloud/Colab2Word.git"
   ]
  },
  {
   "cell_type": "code",
   "execution_count": 3,
   "metadata": {},
   "outputs": [
    {
     "name": "stdout",
     "output_type": "stream",
     "text": [
      "Collecting git+https://github.com/nativocloud/Colab2Word.git\n",
      "  Cloning https://github.com/nativocloud/Colab2Word.git to c:\\users\\cardo\\appdata\\local\\temp\\pip-req-build-blkftc2r\n",
      "  Resolved https://github.com/nativocloud/Colab2Word.git to commit bca1a34485667f84fea10ae176ad726b3f79c239\n",
      "  Preparing metadata (setup.py): started\n",
      "  Preparing metadata (setup.py): finished with status 'done'\n",
      "Requirement already satisfied: python-docx>=0.8.11 in c:\\users\\cardo\\anaconda3\\lib\\site-packages (from colab2word==0.1.0) (1.1.2)\n",
      "Requirement already satisfied: pandas>=1.3.0 in c:\\users\\cardo\\anaconda3\\lib\\site-packages (from colab2word==0.1.0) (2.2.2)\n",
      "Requirement already satisfied: numpy>=1.21.0 in c:\\users\\cardo\\anaconda3\\lib\\site-packages (from colab2word==0.1.0) (1.26.4)\n",
      "Requirement already satisfied: matplotlib>=3.4.0 in c:\\users\\cardo\\anaconda3\\lib\\site-packages (from colab2word==0.1.0) (3.9.2)\n",
      "Requirement already satisfied: seaborn>=0.11.0 in c:\\users\\cardo\\anaconda3\\lib\\site-packages (from colab2word==0.1.0) (0.13.2)\n",
      "Requirement already satisfied: contourpy>=1.0.1 in c:\\users\\cardo\\anaconda3\\lib\\site-packages (from matplotlib>=3.4.0->colab2word==0.1.0) (1.2.0)\n",
      "Requirement already satisfied: cycler>=0.10 in c:\\users\\cardo\\anaconda3\\lib\\site-packages (from matplotlib>=3.4.0->colab2word==0.1.0) (0.11.0)\n",
      "Requirement already satisfied: fonttools>=4.22.0 in c:\\users\\cardo\\anaconda3\\lib\\site-packages (from matplotlib>=3.4.0->colab2word==0.1.0) (4.51.0)\n",
      "Requirement already satisfied: kiwisolver>=1.3.1 in c:\\users\\cardo\\anaconda3\\lib\\site-packages (from matplotlib>=3.4.0->colab2word==0.1.0) (1.4.4)\n",
      "Requirement already satisfied: packaging>=20.0 in c:\\users\\cardo\\anaconda3\\lib\\site-packages (from matplotlib>=3.4.0->colab2word==0.1.0) (24.1)\n",
      "Requirement already satisfied: pillow>=8 in c:\\users\\cardo\\anaconda3\\lib\\site-packages (from matplotlib>=3.4.0->colab2word==0.1.0) (10.4.0)\n",
      "Requirement already satisfied: pyparsing>=2.3.1 in c:\\users\\cardo\\anaconda3\\lib\\site-packages (from matplotlib>=3.4.0->colab2word==0.1.0) (3.1.2)\n",
      "Requirement already satisfied: python-dateutil>=2.7 in c:\\users\\cardo\\anaconda3\\lib\\site-packages (from matplotlib>=3.4.0->colab2word==0.1.0) (2.9.0.post0)\n",
      "Requirement already satisfied: pytz>=2020.1 in c:\\users\\cardo\\anaconda3\\lib\\site-packages (from pandas>=1.3.0->colab2word==0.1.0) (2024.1)\n",
      "Requirement already satisfied: tzdata>=2022.7 in c:\\users\\cardo\\anaconda3\\lib\\site-packages (from pandas>=1.3.0->colab2word==0.1.0) (2023.3)\n",
      "Requirement already satisfied: lxml>=3.1.0 in c:\\users\\cardo\\anaconda3\\lib\\site-packages (from python-docx>=0.8.11->colab2word==0.1.0) (5.2.1)\n",
      "Requirement already satisfied: typing-extensions>=4.9.0 in c:\\users\\cardo\\anaconda3\\lib\\site-packages (from python-docx>=0.8.11->colab2word==0.1.0) (4.11.0)\n",
      "Requirement already satisfied: six>=1.5 in c:\\users\\cardo\\anaconda3\\lib\\site-packages (from python-dateutil>=2.7->matplotlib>=3.4.0->colab2word==0.1.0) (1.16.0)\n",
      "Note: you may need to restart the kernel to use updated packages.\n"
     ]
    },
    {
     "name": "stderr",
     "output_type": "stream",
     "text": [
      "  Running command git clone --filter=blob:none --quiet https://github.com/nativocloud/Colab2Word.git 'C:\\Users\\cardo\\AppData\\Local\\Temp\\pip-req-build-blkftc2r'\n"
     ]
    }
   ],
   "source": [
    "pip install git+https://github.com/nativocloud/Colab2Word.git"
   ]
  },
  {
   "cell_type": "code",
   "execution_count": 6,
   "metadata": {},
   "outputs": [
    {
     "ename": "ModuleNotFoundError",
     "evalue": "No module named 'colab2word'",
     "output_type": "error",
     "traceback": [
      "\u001b[1;31m---------------------------------------------------------------------------\u001b[0m",
      "\u001b[1;31mModuleNotFoundError\u001b[0m                       Traceback (most recent call last)",
      "Cell \u001b[1;32mIn[6], line 4\u001b[0m\n\u001b[0;32m      2\u001b[0m \u001b[38;5;28;01mimport\u001b[39;00m \u001b[38;5;21;01mnumpy\u001b[39;00m \u001b[38;5;28;01mas\u001b[39;00m \u001b[38;5;21;01mnp\u001b[39;00m\n\u001b[0;32m      3\u001b[0m \u001b[38;5;28;01mimport\u001b[39;00m \u001b[38;5;21;01mmatplotlib\u001b[39;00m\u001b[38;5;21;01m.\u001b[39;00m\u001b[38;5;21;01mpyplot\u001b[39;00m \u001b[38;5;28;01mas\u001b[39;00m \u001b[38;5;21;01mplt\u001b[39;00m\n\u001b[1;32m----> 4\u001b[0m \u001b[38;5;28;01mfrom\u001b[39;00m \u001b[38;5;21;01mcolab2word\u001b[39;00m \u001b[38;5;28;01mimport\u001b[39;00m DocumentGenerator, DocumentSection, DocumentTheme, VisualizationSettings\n",
      "\u001b[1;31mModuleNotFoundError\u001b[0m: No module named 'colab2word'"
     ]
    }
   ],
   "source": [
    "import pandas as pd\n",
    "import numpy as np\n",
    "import matplotlib.pyplot as plt\n",
    "from colab2word import DocumentGenerator, DocumentSection, DocumentTheme, VisualizationSettings"
   ]
  },
  {
   "cell_type": "markdown",
   "metadata": {},
   "source": [
    "## Creating Sample Data\n",
    "\n",
    "Let's create some example data to work with:"
   ]
  },
  {
   "cell_type": "code",
   "execution_count": null,
   "metadata": {},
   "outputs": [],
   "source": [
    "# Create sample DataFrame\n",
    "dates = pd.date_range('2024-01-01', periods=6, freq='M')\n",
    "data = {\n",
    "    'Revenue': [100000, 120000, 150000, 140000, 160000, 180000],\n",
    "    'Expenses': [80000, 90000, 100000, 95000, 105000, 110000],\n",
    "    'Customers': [1200, 1300, 1450, 1400, 1600, 1800]\n",
    "}\n",
    "df = pd.DataFrame(data, index=dates)\n",
    "df['Profit'] = df['Revenue'] - df['Expenses']\n",
    "\n",
    "# Create sample plot\n",
    "plt.figure(figsize=(10, 6))\n",
    "plt.plot(df.index, df['Revenue'], marker='o', label='Revenue')\n",
    "plt.plot(df.index, df['Expenses'], marker='s', label='Expenses')\n",
    "plt.title('Financial Metrics')\n",
    "plt.xlabel('Month')\n",
    "plt.ylabel('Amount ($)')\n",
    "plt.grid(True, alpha=0.3)\n",
    "plt.legend()\n",
    "plot_figure = plt.gcf()"
   ]
  },
  {
   "cell_type": "markdown",
   "metadata": {},
   "source": [
    "## Initialize Document Generator\n",
    "\n",
    "Set up the document generator with custom theme and visualization settings:"
   ]
  },
  {
   "cell_type": "code",
   "execution_count": null,
   "metadata": {},
   "outputs": [],
   "source": [
    "# Create custom theme\n",
    "theme = DocumentTheme(\n",
    "    heading1_size=16,\n",
    "    heading2_size=14,\n",
    "    body_size=11\n",
    ")\n",
    "\n",
    "# Create visualization settings\n",
    "viz_settings = VisualizationSettings(\n",
    "    figure_size=(10, 6),\n",
    "    dpi=300,\n",
    "    show_grid=True\n",
    ")\n",
    "\n",
    "# Initialize document generator\n",
    "doc_gen = DocumentGenerator(\n",
    "    theme=theme,\n",
    "    viz_settings=viz_settings,\n",
    "    output_dir='reports',\n",
    "    default_filename='financial_report.docx'\n",
    ")"
   ]
  },
  {
   "cell_type": "markdown",
   "metadata": {},
   "source": [
    "## Create Document Sections\n",
    "\n",
    "Now let's create different types of sections:"
   ]
  },
  {
   "cell_type": "code",
   "execution_count": null,
   "metadata": {},
   "outputs": [],
   "source": [
    "# Create document sections\n",
    "sections = [\n",
    "    # Title section\n",
    "    DocumentSection(\n",
    "        content=\"Financial Performance Report\",\n",
    "        content_type=\"text\",\n",
    "        header=\"Executive Summary\",\n",
    "        description=\"Analysis of key financial metrics for Q1-Q2 2024\"\n",
    "    ),\n",
    "    \n",
    "    # Data table section\n",
    "    DocumentSection(\n",
    "        content=df,\n",
    "        content_type=\"table\",\n",
    "        header=\"Financial Data\",\n",
    "        description=\"Monthly breakdown of revenue, expenses, and customer metrics\",\n",
    "        style_options={'include_index': True}\n",
    "    ),\n",
    "    \n",
    "    # Key insights section\n",
    "    DocumentSection(\n",
    "        content=\"\"\"\n",
    "Key Findings:\n",
    "• Revenue shows consistent growth over the period\n",
    "• Customer base has expanded by 50% from January to June\n",
    "• Profit margins have remained stable despite increased expenses\n",
    "        \"\"\".strip(),\n",
    "        content_type=\"text\",\n",
    "        header=\"Key Insights\"\n",
    "    ),\n",
    "    \n",
    "    # Visualization section\n",
    "    DocumentSection(\n",
    "        content=plot_figure,\n",
    "        content_type=\"plot\",\n",
    "        header=\"Revenue vs Expenses Trend\",\n",
    "        description=\"Visual comparison of monthly revenue and expenses\",\n",
    "        style_options={'width': 7},\n",
    "        page_break_before=True\n",
    "    )\n",
    "]"
   ]
  },
  {
   "cell_type": "markdown",
   "metadata": {},
   "source": [
    "## Generate the Document"
   ]
  },
  {
   "cell_type": "code",
   "execution_count": null,
   "metadata": {},
   "outputs": [],
   "source": [
    "# Generate document\n",
    "output_path = doc_gen.generate_document(\n",
    "    sections=sections,\n",
    "    output_filename='financial_report.docx',\n",
    "    title=\"Financial Performance Report\",\n",
    "    author=\"Colab2Word Demo\",\n",
    "    create_new=True\n",
    ")\n",
    "\n",
    "print(f\"Document generated successfully at: {output_path}\")"
   ]
  },
  {
   "cell_type": "markdown",
   "metadata": {},
   "source": [
    "## Download the Generated Document\n",
    "\n",
    "If you're running this in Colab, you can download the generated document:"
   ]
  },
  {
   "cell_type": "code",
   "execution_count": null,
   "metadata": {},
   "outputs": [],
   "source": [
    "from google.colab import files\n",
    "files.download(str(output_path))"
   ]
  }
 ],
 "metadata": {
  "kernelspec": {
   "display_name": "base",
   "language": "python",
   "name": "python3"
  },
  "language_info": {
   "codemirror_mode": {
    "name": "ipython",
    "version": 3
   },
   "file_extension": ".py",
   "mimetype": "text/x-python",
   "name": "python",
   "nbconvert_exporter": "python",
   "pygments_lexer": "ipython3",
   "version": "3.12.7"
  }
 },
 "nbformat": 4,
 "nbformat_minor": 4
}
