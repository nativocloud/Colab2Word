{
 "cells": [
  {
   "cell_type": "markdown",
   "metadata": {},
   "source": [
    "# Colab2Word Basic Usage Examples\n",
    "\n",
    "This notebook demonstrates how to use the Colab2Word package to generate professional Word documents from your Colab notebooks."
   ]
  },
  {
   "cell_type": "markdown",
   "metadata": {},
   "source": [
    "## Setup\n",
    "\n",
    "First, install the package:"
   ]
  },
  {
   "cell_type": "code",
   "execution_count": null,
   "metadata": {},
   "source": [
    "!pip install git+https://github.com/nativocloud/Colab2Word.git"
   ]
  },
  {
   "cell_type": "code",
   "execution_count": null,
   "metadata": {},
   "source": [
    "import pandas as pd\n",
    "import numpy as np\n",
    "import matplotlib.pyplot as plt\n",
    "from colab2word import DocumentGenerator, DocumentSection, DocumentTheme, VisualizationSettings"
   ]
  },
  {
   "cell_type": "markdown",
   "metadata": {},
   "source": [
    "## Creating Sample Data\n",
    "\n",
    "Let's create some example data to work with:"
   ]
  },
  {
   "cell_type": "code",
   "execution_count": null,
   "metadata": {},
   "source": [
    "# Create sample DataFrame\n",
    "dates = pd.date_range('2024-01-01', periods=6, freq='M')\n",
    "data = {\n",
    "    'Revenue': [100000, 120000, 150000, 140000, 160000, 180000],\n",
    "    'Expenses': [80000, 90000, 100000, 95000, 105000, 110000],\n",
    "    'Customers': [1200, 1300, 1450, 1400, 1600, 1800]\n",
    "}\n",
    "df = pd.DataFrame(data, index=dates)\n",
    "df['Profit'] = df['Revenue'] - df['Expenses']\n",
    "\n",
    "# Create sample plot\n",
    "plt.figure(figsize=(10, 6))\n",
    "plt.plot(df.index, df['Revenue'], marker='o', label='Revenue')\n",
    "plt.plot(df.index, df['Expenses'], marker='s', label='Expenses')\n",
    "plt.title('Financial Metrics')\n",
    "plt.xlabel('Month')\n",
    "plt.ylabel('Amount ($)')\n",
    "plt.grid(True, alpha=0.3)\n",
    "plt.legend()\n",
    "plot_figure = plt.gcf()"
   ]
  },
  {
   "cell_type": "markdown",
   "metadata": {},
   "source": [
    "## Initialize Document Generator\n",
    "\n",
    "Set up the document generator with custom theme and visualization settings:"
   ]
  },
  {
   "cell_type": "code",
   "execution_count": null,
   "metadata": {},
   "source": [
    "# Create custom theme\n",
    "theme = DocumentTheme(\n",
    "    heading1_size=16,\n",
    "    heading2_size=14,\n",
    "    body_size=11\n",
    ")\n",
    "\n",
    "# Create visualization settings\n",
    "viz_settings = VisualizationSettings(\n",
    "    figure_size=(10, 6),\n",
    "    dpi=300,\n",
    "    show_grid=True\n",
    ")\n",
    "\n",
    "# Initialize document generator\n",
    "doc_gen = DocumentGenerator(\n",
    "    theme=theme,\n",
    "    viz_settings=viz_settings,\n",
    "    output_dir='reports',\n",
    "    default_filename='financial_report.docx'\n",
    ")"
   ]
  },
  {
   "cell_type": "markdown",
   "metadata": {},
   "source": [
    "## Create Document Sections\n",
    "\n",
    "Now let's create different types of sections:"
   ]
  },
  {
   "cell_type": "code",
   "execution_count": null,
   "metadata": {},
   "source": [
    "# Create document sections\n",
    "sections = [\n",
    "    # Title section\n",
    "    DocumentSection(\n",
    "        content=\"Financial Performance Report\",\n",
    "        content_type=\"text\",\n",
    "        header=\"Executive Summary\",\n",
    "        description=\"Analysis of key financial metrics for Q1-Q2 2024\"\n",
    "    ),\n",
    "    \n",
    "    # Data table section\n",
    "    DocumentSection(\n",
    "        content=df,\n",
    "        content_type=\"table\",\n",
    "        header=\"Financial Data\",\n",
    "        description=\"Monthly breakdown of revenue, expenses, and customer metrics\",\n",
    "        style_options={'include_index': True}\n",
    "    ),\n",
    "    \n",
    "    # Key insights section\n",
    "    DocumentSection(\n",
    "        content=\"\"\"\n",
    "Key Findings:\n",
    "• Revenue shows consistent growth over the period\n",
    "• Customer base has expanded by 50% from January to June\n",
    "• Profit margins have remained stable despite increased expenses\n",
    "        \"\"\".strip(),\n",
    "        content_type=\"text\",\n",
    "        header=\"Key Insights\"\n",
    "    ),\n",
    "    \n",
    "    # Visualization section\n",
    "    DocumentSection(\n",
    "        content=plot_figure,\n",
    "        content_type=\"plot\",\n",
    "        header=\"Revenue vs Expenses Trend\",\n",
    "        description=\"Visual comparison of monthly revenue and expenses\",\n",
    "        style_options={'width': 7},\n",
    "        page_break_before=True\n",
    "    )\n",
    "]"
   ]
  },
  {
   "cell_type": "markdown",
   "metadata": {},
   "source": [
    "## Generate the Document"
   ]
  },
  {
   "cell_type": "code",
   "execution_count": null,
   "metadata": {},
   "source": [
    "# Generate document\n",
    "output_path = doc_gen.generate_document(\n",
    "    sections=sections,\n",
    "    output_filename='financial_report.docx',\n",
    "    title=\"Financial Performance Report\",\n",
    "    author=\"Colab2Word Demo\",\n",
    "    create_new=True\n",
    ")\n",
    "\n",
    "print(f\"Document generated successfully at: {output_path}\")"
   ]
  },
  {
   "cell_type": "markdown",
   "metadata": {},
   "source": [
    "## Download the Generated Document\n",
    "\n",
    "If you're running this in Colab, you can download the generated document:"
   ]
  },
  {
   "cell_type": "code",
   "execution_count": null,
   "metadata": {},
   "source": [
    "from google.colab import files\n",
    "files.download(str(output_path))"
   ]
  }
 ],
 "metadata": {
  "kernelspec": {
   "display_name": "Python 3",
   "language": "python",
   "name": "python3"
  },
  "language_info": {
   "codemirror_mode": {
    "name": "ipython",
    "version": 3
   },
   "file_extension": ".py",
   "mimetype": "text/x-python",
   "name": "python",
   "nbconvert_exporter": "python",
   "pygments_lexer": "ipython3",
   "version": "3.8.0"
  }
 },
 "nbformat": 4,
 "nbformat_minor": 4
}