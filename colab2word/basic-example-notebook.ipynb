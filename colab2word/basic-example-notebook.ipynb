{
 "cells": [
  {
   "cell_type": "markdown",
   "metadata": {},
   "source": [
    "# Colab2Word Basic Usage Guide\n",
    "\n",
    "This notebook demonstrates the basic usage of Colab2Word for creating simple Word documents from your Colab notebooks. We'll cover:\n",
    "1. Creating a simple text document\n",
    "2. Adding a table from a pandas DataFrame\n",
    "3. Including a basic plot\n",
    "4. Combining different content types"
   ]
  },
  {
   "cell_type": "markdown",
   "metadata": {},
   "source": [
    "## Setup\n",
    "\n",
    "First, let's install and import the necessary packages:"
   ]
  },
  {
   "cell_type": "code",
   "execution_count": null,
   "metadata": {},
   "source": [
    "!pip install git+https://github.com/nativocloud/Colab2Word.git"
   ]
  },
  {
   "cell_type": "code",
   "execution_count": null,
   "metadata": {},
   "source": [
    "import pandas as pd\n",
    "import matplotlib.pyplot as plt\n",
    "from colab2word import DocumentGenerator, DocumentSection"
   ]
  },
  {
   "cell_type": "markdown",
   "metadata": {},
   "source": [
    "## 1. Simple Text Document\n",
    "\n",
    "Let's start by creating a document with just text content:"
   ]
  },
  {
   "cell_type": "code",
   "execution_count": null,
   "metadata": {},
   "source": [
    "# Initialize document generator\n",
    "doc_gen = DocumentGenerator(\n",
    "    output_dir='output',\n",
    "    default_filename='simple_text.docx'\n",
    ")\n",
    "\n",
    "# Create a text section\n",
    "text_section = DocumentSection(\n",
    "    content=\"\"\"This is a simple text document created with Colab2Word.\n",
    "    \n",
    "Key points about the package:\n",
    "• Easy to use\n",
    "• Supports text, tables, and plots\n",
    "• Automatically formats documents\"\"\",\n",
    "    header=\"Introduction\",\n",
    "    description=\"A brief introduction to Colab2Word\"\n",
    ")\n",
    "\n",
    "# Generate document\n",
    "doc_gen.generate_document(\n",
    "    sections=[text_section],\n",
    "    title=\"Simple Text Document\",\n",
    "    author=\"Colab2Word Demo\"\n",
    ")"
   ]
  },
  {
   "cell_type": "markdown",
   "metadata": {},
   "source": [
    "## 2. Adding Tables\n",
    "\n",
    "Now let's create a document with a table using pandas DataFrame:"
   ]
  },
  {
   "cell_type": "code",
   "execution_count": null,
   "metadata": {},
   "source": [
    "# Create sample data\n",
    "data = {\n",
    "    'Product': ['A', 'B', 'C'],\n",
    "    'Sales': [100, 150, 80],\n",
    "    'Price': [10.99, 15.99, 8.99]\n",
    "}\n",
    "df = pd.DataFrame(data)\n",
    "\n",
    "# Create table section\n",
    "table_section = DocumentSection(\n",
    "    content=df,\n",
    "    header=\"Sales Data\",\n",
    "    description=\"Product sales and pricing information\"\n",
    ")\n",
    "\n",
    "# Generate document\n",
    "doc_gen.generate_document(\n",
    "    sections=[table_section],\n",
    "    output_filename='simple_table.docx',\n",
    "    title=\"Table Example\"\n",
    ")"
   ]
  },
  {
   "cell_type": "markdown",
   "metadata": {},
   "source": [
    "## 3. Including Plots\n",
    "\n",
    "Let's create a document with a simple matplotlib plot:"
   ]
  },
  {
   "cell_type": "code",
   "execution_count": null,
   "metadata": {},
   "source": [
    "# Create a simple plot\n",
    "plt.figure(figsize=(8, 5))\n",
    "plt.bar(df['Product'], df['Sales'])\n",
    "plt.title('Product Sales')\n",
    "plt.xlabel('Product')\n",
    "plt.ylabel('Sales')\n",
    "plot_figure = plt.gcf()\n",
    "\n",
    "# Create plot section\n",
    "plot_section = DocumentSection(\n",
    "    content=plot_figure,\n",
    "    header=\"Sales Chart\",\n",
    "    description=\"Visual representation of product sales\"\n",
    ")\n",
    "\n",
    "# Generate document\n",
    "doc_gen.generate_document(\n",
    "    sections=[plot_section],\n",
    "    output_filename='simple_plot.docx',\n",
    "    title=\"Plot Example\"\n",
    ")"
   ]
  },
  {
   "cell_type": "markdown",
   "metadata": {},
   "source": [
    "## 4. Combining Different Content Types\n",
    "\n",
    "Finally, let's create a document that combines text, tables, and plots:"
   ]
  },
  {
   "cell_type": "code",
   "execution_count": null,
   "metadata": {},
   "source": [
    "# Create multiple sections\n",
    "sections = [\n",
    "    # Introduction text\n",
    "    DocumentSection(\n",
    "        content=\"This report shows our product sales data with both tabular and visual representations.\",\n",
    "        header=\"Sales Report\",\n",
    "        description=\"Overview of product sales performance\"\n",
    "    ),\n",
    "    \n",
    "    # Data table\n",
    "    DocumentSection(\n",
    "        content=df,\n",
    "        header=\"Sales Data\",\n",
    "        description=\"Detailed sales figures\",\n",
    "        page_break_before=True\n",
    "    ),\n",
    "    \n",
    "    # Sales chart\n",
    "    DocumentSection(\n",
    "        content=plot_figure,\n",
    "        header=\"Sales Visualization\",\n",
    "        description=\"Bar chart of product sales\"\n",
    "    )\n",
    "]\n",
    "\n",
    "# Generate complete document\n",
    "output_path = doc_gen.generate_document(\n",
    "    sections=sections,\n",
    "    output_filename='complete_report.docx',\n",
    "    title=\"Complete Sales Report\",\n",
    "    author=\"Colab2Word Demo\"\n",
    ")\n",
    "\n",
    "print(f\"Document generated at: {output_path}\")"
   ]
  },
  {
   "cell_type": "markdown",
   "metadata": {},
   "source": [
    "## Download Generated Documents\n",
    "\n",
    "If you're running this in Google Colab, you can download the generated documents:"
   ]
  },
  {
   "cell_type": "code",
   "execution_count": null,
   "metadata": {},
   "source": [
    "from google.colab import files\n",
    "files.download(str(output_path))"
   ]
  }
 ],
 "metadata": {
  "kernelspec": {
   "display_name": "Python 3",
   "language": "python",
   "name": "python3"
  },
  "language_info": {
   "codemirror_mode": {
    "name": "ipython",
    "version": 3
   },
   "file_extension": ".py",
   "mimetype": "text/x-python",
   "name": "python",
   "nbconvert_exporter": "python",
   "pygments_lexer": "ipython3",
   "version": "3.8.0"
  }
 },
 "nbformat": 4,
 "nbformat_minor": 4
}